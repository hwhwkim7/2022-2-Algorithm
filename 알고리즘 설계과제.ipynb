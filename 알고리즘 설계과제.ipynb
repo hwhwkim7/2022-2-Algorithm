{
 "cells": [
  {
   "cell_type": "markdown",
   "id": "5f4b1adc",
   "metadata": {},
   "source": [
    "# POA 262번 패턴 매치 알고리즘&nbsp;&nbsp;&nbsp;&nbsp;&nbsp;&nbsp;2020316011 김혜원"
   ]
  },
  {
   "cell_type": "code",
   "execution_count": 15,
   "id": "88c84bd0",
   "metadata": {},
   "outputs": [],
   "source": [
    "def match(P, S, n, m):\n",
    "    l = 0                                             # S에서 P가 시작하는 위치를 인덱스로 표현\n",
    "    matched = False                                   # 패턴과 문자열의 일치 여부\n",
    "    while((l<=(n-m)) and not matched):                # l = n-m: 문자열의 맨 끝에 패턴이 존재하는 경우\n",
    "        l = l+1\n",
    "        r = 0                                         \n",
    "        matched = True\n",
    "        while((r<m) and matched):                     # r을 이용하여 패턴 길이만큼 반복하며 일치하는지 확인한다.\n",
    "            matched = matched and (P[r] == S[l+r])    # 패턴의 내용과 문자열이 일치하지 않으면 matched = False로 while문을 빠져나옴\n",
    "            r = r+1                                   \n",
    "    return l       "
   ]
  },
  {
   "cell_type": "code",
   "execution_count": 30,
   "id": "42f19637",
   "metadata": {
    "scrolled": true
   },
   "outputs": [
    {
     "data": {
      "text/plain": [
       "10"
      ]
     },
     "execution_count": 30,
     "metadata": {},
     "output_type": "execute_result"
    }
   ],
   "source": [
    "# input String = S\n",
    "# S의 길이 = n\n",
    "S = \"abcdefghij\"\n",
    "n = len(S)\n",
    "n"
   ]
  },
  {
   "cell_type": "markdown",
   "id": "12543bec",
   "metadata": {},
   "source": [
    "## 매칭 되는 버전"
   ]
  },
  {
   "cell_type": "code",
   "execution_count": 31,
   "id": "130bbe1c",
   "metadata": {},
   "outputs": [
    {
     "data": {
      "text/plain": [
       "3"
      ]
     },
     "execution_count": 31,
     "metadata": {},
     "output_type": "execute_result"
    }
   ],
   "source": [
    "# pattern = P\n",
    "# P의 길이 = m\n",
    "P = \"cde\"\n",
    "m = len(P)\n",
    "m"
   ]
  },
  {
   "cell_type": "code",
   "execution_count": 32,
   "id": "17ac017e",
   "metadata": {},
   "outputs": [
    {
     "data": {
      "text/plain": [
       "2"
      ]
     },
     "execution_count": 32,
     "metadata": {},
     "output_type": "execute_result"
    }
   ],
   "source": [
    "match(P, S, n, m)"
   ]
  },
  {
   "cell_type": "markdown",
   "id": "3393632d",
   "metadata": {},
   "source": [
    "## 매칭 되지 않는 버전"
   ]
  },
  {
   "cell_type": "code",
   "execution_count": 33,
   "id": "0d236892",
   "metadata": {},
   "outputs": [
    {
     "data": {
      "text/plain": [
       "3"
      ]
     },
     "execution_count": 33,
     "metadata": {},
     "output_type": "execute_result"
    }
   ],
   "source": [
    "# pattern = P\n",
    "# P의 길이 = m\n",
    "P = \"cdd\"\n",
    "m = len(P)\n",
    "m"
   ]
  },
  {
   "cell_type": "code",
   "execution_count": 34,
   "id": "2bc1d00b",
   "metadata": {},
   "outputs": [
    {
     "data": {
      "text/plain": [
       "8"
      ]
     },
     "execution_count": 34,
     "metadata": {},
     "output_type": "execute_result"
    }
   ],
   "source": [
    "match(P, S, n, m)"
   ]
  },
  {
   "cell_type": "code",
   "execution_count": null,
   "id": "75e54c26",
   "metadata": {},
   "outputs": [],
   "source": []
  }
 ],
 "metadata": {
  "kernelspec": {
   "display_name": "Python 3 (ipykernel)",
   "language": "python",
   "name": "python3"
  },
  "language_info": {
   "codemirror_mode": {
    "name": "ipython",
    "version": 3
   },
   "file_extension": ".py",
   "mimetype": "text/x-python",
   "name": "python",
   "nbconvert_exporter": "python",
   "pygments_lexer": "ipython3",
   "version": "3.9.12"
  }
 },
 "nbformat": 4,
 "nbformat_minor": 5
}
